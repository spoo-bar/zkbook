{
 "cells": [
  {
   "cell_type": "markdown",
   "metadata": {},
   "source": [
    "## Chapter 3: Finite Fields and Modular Arithmetic"
   ]
  },
  {
   "cell_type": "markdown",
   "metadata": {},
   "source": [
    "### Computing the multiplicative inverse with Python"
   ]
  },
  {
   "cell_type": "code",
   "execution_count": 1,
   "metadata": {},
   "outputs": [
    {
     "name": "stdout",
     "output_type": "stream",
     "text": [
      "7\n"
     ]
    }
   ],
   "source": [
    "p = 17\n",
    "print(pow(5, -1, p))\n",
    "# 7\n",
    "assert (5 * 7) % p == 1"
   ]
  },
  {
   "cell_type": "markdown",
   "metadata": {},
   "source": [
    "Exercise: Use Python to compute the multiplicative inverse of 288 in the finite field of p = 311. You can check your work by validating that (288 * answer) % 311 == 1."
   ]
  },
  {
   "cell_type": "code",
   "execution_count": 2,
   "metadata": {},
   "outputs": [],
   "source": [
    "p = 311\n",
    "mi = pow(288, -1, p)\n",
    "assert (288 * mi) % p == 1"
   ]
  },
  {
   "cell_type": "markdown",
   "metadata": {},
   "source": [
    "### The addition of multiplicative inverses is consistent with “regular” addition of fractions"
   ]
  },
  {
   "cell_type": "code",
   "execution_count": 3,
   "metadata": {},
   "outputs": [],
   "source": [
    "p = 7\n",
    "one_half = pow(2, -1, p)\n",
    "one_third = pow(3, -1, p)\n",
    "five_over_six = (pow(6, -1, p) * 5) % p\n",
    "\n",
    "assert (one_half + one_third) % p == five_over_six"
   ]
  },
  {
   "cell_type": "code",
   "execution_count": 4,
   "metadata": {},
   "outputs": [],
   "source": [
    "def compute_field_element_from_fraction(num, den, p):\n",
    "    inv_den = pow(den, -1, p)\n",
    "    return (num * inv_den) % p"
   ]
  },
  {
   "cell_type": "markdown",
   "metadata": {},
   "source": [
    "### Finite field “division” does not suffer from precision loss\n",
    "\n",
    "$$\n",
    "x + y + z === 1 \\\\\n",
    "x === y \\\\\n",
    "y === z \\\\\n",
    "$$"
   ]
  },
  {
   "cell_type": "code",
   "execution_count": 5,
   "metadata": {},
   "outputs": [],
   "source": [
    "p = 11\n",
    "\n",
    "# x, y, z have value 1/3\n",
    "x = pow(3, -1, 11)\n",
    "y = pow(3, -1, 11)\n",
    "z = pow(3, -1, 11)\n",
    "\n",
    "assert x == y;\n",
    "assert y == z;\n",
    "assert (x + y + z) % p == 1"
   ]
  },
  {
   "cell_type": "markdown",
   "metadata": {},
   "source": [
    "### Finite field library in Python"
   ]
  },
  {
   "cell_type": "code",
   "execution_count": 6,
   "metadata": {},
   "outputs": [],
   "source": [
    "import galois\n",
    "GF7 = galois.GF(7) # GF7 is a class that wraps 7\n",
    "\n",
    "one_half = GF7(1) / GF7(2)\n",
    "one_third = GF7(1) / GF7(3)\n",
    "five_over_six = GF7(5) / GF7(6)\n",
    "\n",
    "assert one_half + one_third == five_over_six  "
   ]
  },
  {
   "cell_type": "markdown",
   "metadata": {},
   "source": [
    "To calculate negative inverse"
   ]
  },
  {
   "cell_type": "code",
   "execution_count": 7,
   "metadata": {},
   "outputs": [],
   "source": [
    "import galois\n",
    "GF7 = galois.GF(7) # GF7 is a class that wraps 7\n",
    "\n",
    "negative_two = -GF7(2)\n",
    "assert negative_two + GF7(2) == 0"
   ]
  },
  {
   "cell_type": "markdown",
   "metadata": {},
   "source": [
    "### The multiplication of fractions is also consistent"
   ]
  },
  {
   "cell_type": "code",
   "execution_count": 8,
   "metadata": {},
   "outputs": [],
   "source": [
    "\n",
    "import galois\n",
    "GF = galois.GF(11)\n",
    "\n",
    "one_third = GF(1) / GF(3)\n",
    "one_half = GF(1) / GF(2)\n",
    "one_sixth = GF(1) / GF(6)\n",
    "\n",
    "assert one_third * one_half == one_sixth\n"
   ]
  },
  {
   "cell_type": "markdown",
   "metadata": {},
   "source": [
    "### Elements in a finite field do not need to be perfect squares to have a square root"
   ]
  },
  {
   "cell_type": "code",
   "execution_count": 9,
   "metadata": {},
   "outputs": [
    {
     "name": "stdout",
     "output_type": "stream",
     "text": [
      "numbers_with_roots: {0, 1, 3, 4, 5, 9}\n"
     ]
    }
   ],
   "source": [
    "numbers_with_roots = set()\n",
    "p = 11\n",
    "for i in range(0, p):\n",
    "    numbers_with_roots.add(i * i % p)\n",
    "\n",
    "print(\"numbers_with_roots:\", numbers_with_roots)"
   ]
  },
  {
   "cell_type": "markdown",
   "metadata": {},
   "source": [
    "### Computing the modular square root"
   ]
  },
  {
   "cell_type": "code",
   "execution_count": 10,
   "metadata": {},
   "outputs": [
    {
     "data": {
      "text/plain": [
       "[4, 7]"
      ]
     },
     "execution_count": 10,
     "metadata": {},
     "output_type": "execute_result"
    }
   ],
   "source": [
    "from libnum import has_sqrtmod_prime_power, sqrtmod_prime_power\n",
    "has_sqrtmod_prime_power(5, 11, 1) \n",
    "list(sqrtmod_prime_power(5, 11, 1))"
   ]
  },
  {
   "cell_type": "markdown",
   "metadata": {},
   "source": [
    "When `p` can be written as `4k+3` where `k` is an integer"
   ]
  },
  {
   "cell_type": "code",
   "execution_count": null,
   "metadata": {},
   "outputs": [
    {
     "name": "stdout",
     "output_type": "stream",
     "text": [
      "8 15\n"
     ]
    }
   ],
   "source": [
    "def mod_sqrt(x, p):\n",
    "    assert (p - 3) % 4 == 0, \"prime not 4k + 3\"\n",
    "    exponent = (p + 1) // 4\n",
    "    return pow(x, exponent, p) # x ^ e % p\n",
    "\n",
    "# Exercise: Use the code snippet above to compute the modular square root of 5 in the finite field of p = 23.\n",
    "# The code will only give you one of the answers. How can you compute the other?\n",
    "\n",
    "p = 23\n",
    "x = 5\n",
    "sqrt1 = mod_sqrt(x, p)\n",
    "sqrt2 = p - sqrt1 # as the two roots are additive inverses of each other\n",
    "print(sqrt1, sqrt2)"
   ]
  },
  {
   "cell_type": "markdown",
   "metadata": {},
   "source": [
    "### Linear systems of equations in finite fields"
   ]
  },
  {
   "cell_type": "markdown",
   "metadata": {},
   "source": [
    "$$\n",
    "x + 2y=1\\\\\n",
    "7x+3y=2\n",
    "$$\n",
    "Exercise: Write code to bruteforce every combination of (x, y) over x = 0..10, y = 0..10 to verify the above system has no solution over the finite field of p = 11."
   ]
  },
  {
   "cell_type": "code",
   "execution_count": 9,
   "metadata": {},
   "outputs": [],
   "source": [
    "import galois\n",
    "GF11 = galois.GF(11)\n",
    "\n",
    "for x in range(11):\n",
    "    for j in range(11):\n",
    "        expectOne =  GF11(x) + (2 * GF11(j))\n",
    "        expectTwo =  (7 * GF11(x)) + (3 * GF11(j))\n",
    "        if expectOne == 1 and expectTwo == 2:\n",
    "            print(x, j) # found solution. but this should never hit as there is no solution"
   ]
  },
  {
   "cell_type": "markdown",
   "metadata": {},
   "source": [
    "### Practice problems\n",
    "In the problems below, use a finite field p of `21888242871839275222246405745257275088548364400416034343698204186575808495617`. Beware that the `galois` library takes a while to initialize a GF object, `galois.GF(p)`, of this size."
   ]
  },
  {
   "cell_type": "markdown",
   "metadata": {},
   "source": [
    "1. A dev creates an arithmetic circuit `x * y * z === 0` and `x + y + z === 0` with the intent of constraining all the signals to be zero. Find a counter example to this where the constraints are satisfied, but not all of x, y, and z are 0."
   ]
  },
  {
   "cell_type": "code",
   "execution_count": null,
   "metadata": {},
   "outputs": [
    {
     "name": "stdout",
     "output_type": "stream",
     "text": [
      "0 1 21888242871839275222246405745257275088548364400416034343698204186575808495616\n"
     ]
    }
   ],
   "source": [
    "import galois\n",
    "p = 21888242871839275222246405745257275088548364400416034343698204186575808495617\n",
    "GFBig = galois.GF(p)\n",
    "\n",
    "for x in range(p):\n",
    "    for y in range(p):\n",
    "        for z in range(p):\n",
    "            if GFBig(x) + GFBig(y) + GFBig(z) == 0 and GFBig(x) * GFBig(y) * GFBig(z) == 0: # circuit is satisfied\n",
    "                if not(x == 0 and y == 0 and z == 0): # not the solution where all are 0\n",
    "                    print(x, y, z)\n",
    "                    break\n",
    "        else:\n",
    "            continue\n",
    "        break\n",
    "    else:\n",
    "        continue\n",
    "    break     \n",
    "# 0 1 21888242871839275222246405745257275088548364400416034343698204186575808495616   "
   ]
  },
  {
   "cell_type": "markdown",
   "metadata": {},
   "source": [
    "2. A dev creates a circuit with the polynomial `x² + 2x + 3 === 11` and proves that 2 is a solution. What is the other solution? Hint: write the circuit as `x² + 2x - 8 === 0` then factor the polynomial by hand to find the roots. Finally, compute the congruent element of the roots in the finite field to find the other solution."
   ]
  },
  {
   "cell_type": "code",
   "execution_count": 21,
   "metadata": {},
   "outputs": [],
   "source": [
    "import galois\n",
    "GFBig = galois.GF(21888242871839275222246405745257275088548364400416034343698204186575808495617)\n",
    " \n",
    "# using quadratic formula we know that the roots of the polynomial are 2 and -4\n",
    "root1 = GFBig(2)\n",
    "root2 = -GFBig(4) # This will calculate the congruent of -4\n",
    "poly = galois.Poly([1,2,-8], GFBig)\n",
    "\n",
    "assert poly(root1) == 0 # Ensuring that the roots satisfy the polynomial\n",
    "assert poly(root2) == 0 # Ensuring that the roots satisfy the polynomial"
   ]
  }
 ],
 "metadata": {
  "kernelspec": {
   "display_name": ".venv",
   "language": "python",
   "name": "python3"
  },
  "language_info": {
   "codemirror_mode": {
    "name": "ipython",
    "version": 3
   },
   "file_extension": ".py",
   "mimetype": "text/x-python",
   "name": "python",
   "nbconvert_exporter": "python",
   "pygments_lexer": "ipython3",
   "version": "3.12.6"
  }
 },
 "nbformat": 4,
 "nbformat_minor": 2
}
